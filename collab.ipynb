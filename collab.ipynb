{
  "nbformat": 4,
  "nbformat_minor": 0,
  "metadata": {
    "colab": {
      "provenance": [],
      "authorship_tag": "ABX9TyP/BdQwZ2CV4JZfq69aa82q",
      "include_colab_link": true
    },
    "kernelspec": {
      "name": "python3",
      "display_name": "Python 3"
    },
    "language_info": {
      "name": "python"
    }
  },
  "cells": [
    {
      "cell_type": "markdown",
      "metadata": {
        "id": "view-in-github",
        "colab_type": "text"
      },
      "source": [
        "<a href=\"https://colab.research.google.com/github/Pirogh/Repository-name/blob/main/collab.ipynb\" target=\"_parent\"><img src=\"https://colab.research.google.com/assets/colab-badge.svg\" alt=\"Open In Colab\"/></a>"
      ]
    },
    {
      "cell_type": "code",
      "execution_count": null,
      "metadata": {
        "id": "s8WwVaB4074R"
      },
      "outputs": [],
      "source": []
    },
    {
      "cell_type": "markdown",
      "source": [],
      "metadata": {
        "id": "uA7AW1kX2FYz"
      }
    },
    {
      "cell_type": "markdown",
      "source": [
        "## Заголовок\n",
        "Текст.ТекстТекстТекстТекстТекст\n",
        "\n",
        "\n",
        "*   Новый пункт\n",
        "*   Новый пункт\n",
        "\n",
        "\n",
        "| Фрукт | Кол-во |\n",
        "|-------|-------:|\n",
        "| Яблоко| 3      |\n",
        "| Груша | 6      |\n",
        "| Апельсин | 4   |\n",
        "\n",
        "\n",
        "[Ссылка на ВК ГУАП](https://vk.com/guap_ru)\n",
        "<image src=\"https://picsum.photos/800/600\" alt=\" картиночка\">\n"
      ],
      "metadata": {
        "id": "SHWUHWRL2M5Z"
      }
    }
  ]
}